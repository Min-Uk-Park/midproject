{
 "cells": [
  {
   "cell_type": "code",
   "execution_count": 7,
   "metadata": {},
   "outputs": [
    {
     "data": {
      "text/plain": [
       "'결과가 없습니다.'"
      ]
     },
     "execution_count": 7,
     "metadata": {},
     "output_type": "execute_result"
    }
   ],
   "source": [
    "import requests,sys\n",
    "from bs4 import BeautifulSoup as bs \n",
    "\n",
    "sys.path.append('c:\\lang_practice\\Python_practice')\n",
    "url = 'http://ws.bus.go.kr/api/rest/buspos/getBusPosByRouteSt'\n",
    "\n",
    "bus = 100100118\n",
    "servicekey = '0OhBU7ZCGIobDVKDeBJDpmDRqK3IRNF6jlf/JB2diFAf/fR2czYO9A4UTGcsOwppV6W2HVUeho/FPwXoL6DwqA=='\n",
    "\n",
    "params ={'serviceKey' : servicekey, 'busRouteId' : bus, 'startOrd' : '1', 'endOrd' : '10'}\n",
    "\n",
    "response = requests.get(url, params=params)\n",
    "soup = bs(response.text,'lxml-xml')\n",
    "\n",
    "soup.find('headerMsg').text"
   ]
  }
 ],
 "metadata": {
  "kernelspec": {
   "display_name": "base",
   "language": "python",
   "name": "python3"
  },
  "language_info": {
   "codemirror_mode": {
    "name": "ipython",
    "version": 3
   },
   "file_extension": ".py",
   "mimetype": "text/x-python",
   "name": "python",
   "nbconvert_exporter": "python",
   "pygments_lexer": "ipython3",
   "version": "3.7.3"
  }
 },
 "nbformat": 4,
 "nbformat_minor": 2
}
